{
    "cells": [
        {
            "cell_type": "code",
            "execution_count": 7,
            "metadata": {},
            "outputs": [],
            "source": [
                "import json\n",
                "\n",
                "import emoji  # type: ignore\n",
                "import pandas as pd\n",
                "import stweet as st  # type: ignore\n",
                "from tqdm import tqdm  # type: ignore\n",
                "\n",
                "\n",
                "def json_dump_tweet(tweet):\n",
                "    return json.loads(tweet.raw_value)\n",
                "\n",
                "\n",
                "def get_tweet_by_status(status: str):\n",
                "    try:\n",
                "        task_id = st.TweetsByIdTask(status)\n",
                "        output = st.CollectorRawOutput()\n",
                "        # output_print = st.PrintRawOutput()\n",
                "        st.TweetsByIdRunner(tweets_by_id_task=task_id, raw_data_outputs=[output]).run()\n",
                "        tweets = output.get_raw_list()\n",
                "        # [\"raw_value\"][\"legacy\"][\"full_text\"]\n",
                "        some = [json_dump_tweet(tweet) for tweet in tweets]  # type: ignore\n",
                "        if len(some) > 0:\n",
                "            return [data[\"legacy\"][\"full_text\"] for data in some]\n",
                "        return None\n",
                "    except Exception:\n",
                "        return None"
            ]
        },
        {
            "cell_type": "code",
            "execution_count": 10,
            "metadata": {},
            "outputs": [],
            "source": [
                "\n",
                "ids =[ \"743464860458061824\", \"747643690521341953\"]\n",
                "a = get_tweet_by_status(ids[1])"
            ]
        },
        {
            "cell_type": "code",
            "execution_count": 11,
            "metadata": {},
            "outputs": [
                {
                    "name": "stdout",
                    "output_type": "stream",
                    "text": [
                        "['🤔 https://t.co/GRy4JTdGu8', '@VicG__14 ☝️', '@DevonR_13 cut it ‼️', '@VicG__14 😎', '@DevonR_13 I gotcha with that plan though 💯', '@VicG__14 bro always got me 💯', 'https://t.co/5z4Pf2XpSG']\n"
                    ]
                }
            ],
            "source": [
                "print(a)"
            ]
        }
    ],
    "metadata": {
        "kernelspec": {
            "display_name": "Python 3",
            "language": "python",
            "name": "python3"
        },
        "language_info": {
            "codemirror_mode": {
                "name": "ipython",
                "version": 3
            },
            "file_extension": ".py",
            "mimetype": "text/x-python",
            "name": "python",
            "nbconvert_exporter": "python",
            "pygments_lexer": "ipython3",
            "version": "3.10.10"
        },
        "orig_nbformat": 4,
        "vscode": {
            "interpreter": {
                "hash": "09854306cc7cd9dbbfc59707739d324a45dfa16e4bd48b77318707cbf9f08c35"
            }
        }
    },
    "nbformat": 4,
    "nbformat_minor": 2
}
