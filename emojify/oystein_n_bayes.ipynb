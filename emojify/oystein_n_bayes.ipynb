{
 "cells": [
  {
   "cell_type": "code",
   "execution_count": 41,
   "metadata": {},
   "outputs": [],
   "source": [
    "## Imports:\n",
    "\n",
    "import pandas as pd\n",
    "import numpy as np\n",
    "import matplotlib.pyplot as plt\n",
    "import spacy\n",
    "from sklearn.feature_extraction.text import CountVectorizer\n",
    "from sklearn.model_selection import train_test_split\n",
    "from sklearn.naive_bayes import MultinomialNB"
   ]
  },
  {
   "cell_type": "code",
   "execution_count": 65,
   "metadata": {},
   "outputs": [],
   "source": [
    "## Create bow matrix of dataset\n",
    "\n",
    "df = pd.read_csv(\"data/train.txt\", sep=\";\", names=['text', 'label'])\n",
    "df_test = pd.read_csv(\"data/test.txt\", sep=\";\", names=['text', 'label'])\n",
    "\n",
    "df[\"text\"] = df[\"text\"].str.lower()\n",
    "corpus = df[\"text\"]\n",
    "\n",
    "vectorizer = CountVectorizer(lowercase=True, stop_words='english')\n",
    "bow_matrix = vectorizer.fit_transform(corpus)\n",
    "#print(bow_matrix.shape)"
   ]
  },
  {
   "cell_type": "code",
   "execution_count": 66,
   "metadata": {},
   "outputs": [
    {
     "name": "stdout",
     "output_type": "stream",
     "text": [
      "       aa  aaaaaaand  aaaaand  aaaand  aac  aahhh  aaron  ab  abandon  \\\n",
      "0       0          0        0       0    0      0      0   0        0   \n",
      "1       0          0        0       0    0      0      0   0        0   \n",
      "2       0          0        0       0    0      0      0   0        0   \n",
      "3       0          0        0       0    0      0      0   0        0   \n",
      "4       0          0        0       0    0      0      0   0        0   \n",
      "...    ..        ...      ...     ...  ...    ...    ...  ..      ...   \n",
      "15995   0          0        0       0    0      0      0   0        0   \n",
      "15996   0          0        0       0    0      0      0   0        0   \n",
      "15997   0          0        0       0    0      0      0   0        0   \n",
      "15998   0          0        0       0    0      0      0   0        0   \n",
      "15999   0          0        0       0    0      0      0   0        0   \n",
      "\n",
      "       abandoned  ...  zonisamide  zoo  zoom  zooming  zooms  zq  zucchini  \\\n",
      "0              0  ...           0    0     0        0      0   0         0   \n",
      "1              0  ...           0    0     0        0      0   0         0   \n",
      "2              0  ...           0    0     0        0      0   0         0   \n",
      "3              0  ...           0    0     0        0      0   0         0   \n",
      "4              0  ...           0    0     0        0      0   0         0   \n",
      "...          ...  ...         ...  ...   ...      ...    ...  ..       ...   \n",
      "15995          0  ...           0    0     0        0      0   0         0   \n",
      "15996          0  ...           0    0     0        0      0   0         0   \n",
      "15997          0  ...           0    0     0        0      0   0         0   \n",
      "15998          0  ...           0    0     0        0      0   0         0   \n",
      "15999          0  ...           0    0     0        0      0   0         0   \n",
      "\n",
      "       zum  zumba  zz  \n",
      "0        0      0   0  \n",
      "1        0      0   0  \n",
      "2        0      0   0  \n",
      "3        0      0   0  \n",
      "4        0      0   0  \n",
      "...    ...    ...  ..  \n",
      "15995    0      0   0  \n",
      "15996    0      0   0  \n",
      "15997    0      0   0  \n",
      "15998    0      0   0  \n",
      "15999    0      0   0  \n",
      "\n",
      "[16000 rows x 14894 columns]\n"
     ]
    }
   ],
   "source": [
    "# Convert bow_matrix into a DataFrame\n",
    "bow_df = pd.DataFrame(bow_matrix.toarray())\n",
    "\n",
    "# Map the column names to vocabulary\n",
    "bow_df.columns = vectorizer.get_feature_names_out()\n",
    "\n",
    "# Print bow_df\n",
    "## print(bow_df.head())\n"
   ]
  },
  {
   "cell_type": "code",
   "execution_count": 67,
   "metadata": {},
   "outputs": [],
   "source": [
    "\n",
    "##train_test_split(texts, labels, test_size=0.20)\n",
    "\n",
    "txt_train, txt_test, lbl_train, lbl_test = df['text'], df_test['text'], df['label'], df_test['label']\n",
    "\n",
    "txt_train_bow = vectorizer.fit_transform(txt_train)\n",
    "\n",
    "txt_test_bow = vectorizer.transform(txt_test)\n",
    "\n",
    "## print(txt_test_bow.shape)\n",
    "## print(txt_train_bow.shape)"
   ]
  },
  {
   "cell_type": "code",
   "execution_count": 68,
   "metadata": {},
   "outputs": [
    {
     "name": "stdout",
     "output_type": "stream",
     "text": [
      "The accuracy of the classifier on the test set is 0.794\n"
     ]
    }
   ],
   "source": [
    "clf = MultinomialNB()\n",
    "\n",
    "clf.fit(txt_train_bow, lbl_train)\n",
    "\n",
    "\n",
    "# Measure the accuracy\n",
    "accuracy = clf.score(txt_test_bow, lbl_test)\n",
    "print(\"The accuracy of the classifier on the test set is %.3f\" % accuracy)\n"
   ]
  },
  {
   "cell_type": "code",
   "execution_count": 71,
   "metadata": {},
   "outputs": [
    {
     "name": "stdout",
     "output_type": "stream",
     "text": [
      "joy\n"
     ]
    }
   ],
   "source": [
    "msg = \"As we navigate the complexities of the modern world, it's becoming increasingly clear that we need to find ways to collaborate and work together in order to solve the problems we face. Whether it's climate change, political instability, or social inequality, these challenges are too big for any one person or organization to tackle alone.\"\n",
    "prediction = clf.predict(vectorizer.transform([msg]))[0]\n",
    "print(prediction)"
   ]
  },
  {
   "cell_type": "code",
   "execution_count": null,
   "metadata": {},
   "outputs": [],
   "source": []
  },
  {
   "cell_type": "code",
   "execution_count": null,
   "metadata": {},
   "outputs": [],
   "source": []
  }
 ],
 "metadata": {
  "kernelspec": {
   "display_name": "venv",
   "language": "python",
   "name": "python3"
  },
  "language_info": {
   "codemirror_mode": {
    "name": "ipython",
    "version": 3
   },
   "file_extension": ".py",
   "mimetype": "text/x-python",
   "name": "python",
   "nbconvert_exporter": "python",
   "pygments_lexer": "ipython3",
   "version": "3.10.10"
  },
  "orig_nbformat": 4,
  "vscode": {
   "interpreter": {
    "hash": "09854306cc7cd9dbbfc59707739d324a45dfa16e4bd48b77318707cbf9f08c35"
   }
  }
 },
 "nbformat": 4,
 "nbformat_minor": 2
}
