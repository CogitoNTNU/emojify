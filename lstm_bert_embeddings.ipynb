{
 "cells": [
  {
   "cell_type": "code",
   "execution_count": 3,
   "metadata": {},
   "outputs": [
    {
     "ename": "ModuleNotFoundError",
     "evalue": "No module named 'emojify.utils.nn_manager'; 'emojify.utils' is not a package",
     "output_type": "error",
     "traceback": [
      "\u001b[1;31m---------------------------------------------------------------------------\u001b[0m",
      "\u001b[1;31mModuleNotFoundError\u001b[0m                       Traceback (most recent call last)",
      "Cell \u001b[1;32mIn[3], line 1\u001b[0m\n\u001b[1;32m----> 1\u001b[0m \u001b[39mfrom\u001b[39;00m \u001b[39memojify\u001b[39;00m\u001b[39m.\u001b[39;00m\u001b[39mutils\u001b[39;00m\u001b[39m.\u001b[39;00m\u001b[39mnn_manager\u001b[39;00m \u001b[39mimport\u001b[39;00m NNManager\n\u001b[0;32m      2\u001b[0m \u001b[39mfrom\u001b[39;00m \u001b[39memojify\u001b[39;00m\u001b[39m.\u001b[39;00m\u001b[39mdataloaders\u001b[39;00m\u001b[39m.\u001b[39;00m\u001b[39mbert_embedded_data\u001b[39;00m \u001b[39mimport\u001b[39;00m load_bert_embeddings_data\n\u001b[0;32m      3\u001b[0m \u001b[39mfrom\u001b[39;00m \u001b[39memojify\u001b[39;00m\u001b[39m.\u001b[39;00m\u001b[39mmodels\u001b[39;00m\u001b[39m.\u001b[39;00m\u001b[39mlstm_net\u001b[39;00m \u001b[39mimport\u001b[39;00m LSTMNet\n",
      "\u001b[1;31mModuleNotFoundError\u001b[0m: No module named 'emojify.utils.nn_manager'; 'emojify.utils' is not a package"
     ]
    }
   ],
   "source": [
    "\n",
    "from emojify.utils.nn_manager import NNManager\n",
    "from emojify.dataloaders.bert_embedded_data import load_bert_embeddings_data\n",
    "from emojify.models.lstm_net import LSTMNet\n",
    "import torch\n",
    "import matplotlib.pyplot as plt\n"
   ]
  },
  {
   "cell_type": "code",
   "execution_count": 2,
   "metadata": {},
   "outputs": [
    {
     "ename": "FileNotFoundError",
     "evalue": "[Errno 2] No such file or directory: 'data/bert_embeddings.npy'",
     "output_type": "error",
     "traceback": [
      "\u001b[1;31m---------------------------------------------------------------------------\u001b[0m",
      "\u001b[1;31mFileNotFoundError\u001b[0m                         Traceback (most recent call last)",
      "Cell \u001b[1;32mIn[2], line 7\u001b[0m\n\u001b[0;32m      5\u001b[0m learning_rate \u001b[39m=\u001b[39m \u001b[39m5e-3\u001b[39m\n\u001b[0;32m      6\u001b[0m early_stop_count \u001b[39m=\u001b[39m \u001b[39m30\u001b[39m\n\u001b[1;32m----> 7\u001b[0m train, val, test \u001b[39m=\u001b[39m load_bert_embeddings_data(batch_size)\n\u001b[0;32m      8\u001b[0m model \u001b[39m=\u001b[39m ExampleNet(\n\u001b[0;32m      9\u001b[0m     embedding_dim,\n\u001b[0;32m     10\u001b[0m     hidden_dim,\n\u001b[0;32m     11\u001b[0m     \u001b[39m6\u001b[39m\n\u001b[0;32m     12\u001b[0m )\n\u001b[0;32m     13\u001b[0m nn_manager \u001b[39m=\u001b[39m NNManager(\n\u001b[0;32m     14\u001b[0m     batch_size, learning_rate, early_stop_count, epochs, model, (train, val, test)\n\u001b[0;32m     15\u001b[0m )\n",
      "File \u001b[1;32mc:\\Users\\ugioh\\code\\emojify\\emojify\\bert_embedded_data.py:27\u001b[0m, in \u001b[0;36mload_bert_embeddings_data\u001b[1;34m(batch_size)\u001b[0m\n\u001b[0;32m     26\u001b[0m \u001b[39mdef\u001b[39;00m \u001b[39mload_bert_embeddings_data\u001b[39m(batch_size: \u001b[39mint\u001b[39m \u001b[39m=\u001b[39m \u001b[39m32\u001b[39m):\n\u001b[1;32m---> 27\u001b[0m     data \u001b[39m=\u001b[39m BertEmbeddingsData()\n\u001b[0;32m     28\u001b[0m     \u001b[39mprint\u001b[39m(\u001b[39mlen\u001b[39m(data))\n\u001b[0;32m     29\u001b[0m     train, test_val \u001b[39m=\u001b[39m random_split(data, [\u001b[39mint\u001b[39m(\u001b[39mlen\u001b[39m(data) \u001b[39m*\u001b[39m \u001b[39m0.8\u001b[39m), \u001b[39mint\u001b[39m(\u001b[39mlen\u001b[39m(data) \u001b[39m*\u001b[39m \u001b[39m0.2\u001b[39m)])\n",
      "File \u001b[1;32mc:\\Users\\ugioh\\code\\emojify\\emojify\\bert_embedded_data.py:10\u001b[0m, in \u001b[0;36mBertEmbeddingsData.__init__\u001b[1;34m(self)\u001b[0m\n\u001b[0;32m      8\u001b[0m \u001b[39mdef\u001b[39;00m \u001b[39m__init__\u001b[39m(\u001b[39mself\u001b[39m) \u001b[39m-\u001b[39m\u001b[39m>\u001b[39m \u001b[39mNone\u001b[39;00m:\n\u001b[0;32m      9\u001b[0m     \u001b[39msuper\u001b[39m()\u001b[39m.\u001b[39m\u001b[39m__init__\u001b[39m()\n\u001b[1;32m---> 10\u001b[0m     \u001b[39mwith\u001b[39;00m \u001b[39mopen\u001b[39;49m(\u001b[39m\"\u001b[39;49m\u001b[39mdata/bert_embeddings.npy\u001b[39;49m\u001b[39m\"\u001b[39;49m, \u001b[39m\"\u001b[39;49m\u001b[39mrb\u001b[39;49m\u001b[39m\"\u001b[39;49m) \u001b[39mas\u001b[39;00m f:\n\u001b[0;32m     11\u001b[0m         \u001b[39mself\u001b[39m\u001b[39m.\u001b[39membeddings: np\u001b[39m.\u001b[39mndarray \u001b[39m=\u001b[39m np\u001b[39m.\u001b[39mload(f)  \u001b[39m# type: ignore\u001b[39;00m\n\u001b[0;32m     12\u001b[0m     \u001b[39mwith\u001b[39;00m \u001b[39mopen\u001b[39m(\u001b[39m\"\u001b[39m\u001b[39mdata/bert_embeddings_labels.npy\u001b[39m\u001b[39m\"\u001b[39m, \u001b[39m\"\u001b[39m\u001b[39mrb\u001b[39m\u001b[39m\"\u001b[39m) \u001b[39mas\u001b[39;00m f:\n",
      "\u001b[1;31mFileNotFoundError\u001b[0m: [Errno 2] No such file or directory: 'data/bert_embeddings.npy'"
     ]
    }
   ],
   "source": [
    "embedding_dim = 768  # should probably be 32\n",
    "hidden_dim = 6  # should probably be 32\n",
    "epochs = 30\n",
    "batch_size = 32\n",
    "learning_rate = 5e-3\n",
    "early_stop_count = 30\n",
    "train, val, test = load_bert_embeddings_data(batch_size)\n",
    "model = LSTMNet(\n",
    "    embedding_dim,\n",
    "    hidden_dim,\n",
    "    6\n",
    ")\n",
    "nn_manager = NNManager(\n",
    "    batch_size, learning_rate, early_stop_count, epochs, model, (train, val, test)\n",
    ")\n",
    "nn_manager.train()"
   ]
  },
  {
   "cell_type": "code",
   "execution_count": null,
   "metadata": {},
   "outputs": [
    {
     "name": "stderr",
     "output_type": "stream",
     "text": [
      "100%|██████████| 63/63 [00:00<00:00, 1124.43it/s]"
     ]
    },
    {
     "name": "stdout",
     "output_type": "stream",
     "text": [
      "Classification Report:\n",
      "              precision    recall  f1-score   support\n",
      "\n",
      "           0       0.00      0.00      0.00       293\n",
      "           1       0.00      0.00      0.00       236\n",
      "           2       0.00      0.00      0.00       653\n",
      "           3       0.00      0.00      0.00       164\n",
      "           4       0.29      1.00      0.46       590\n",
      "           5       0.00      0.00      0.00        64\n",
      "\n",
      "    accuracy                           0.29      2000\n",
      "   macro avg       0.05      0.17      0.08      2000\n",
      "weighted avg       0.09      0.29      0.13      2000\n",
      "\n",
      "Test accuracy: 0.29\n"
     ]
    },
    {
     "name": "stderr",
     "output_type": "stream",
     "text": [
      "\n",
      "c:\\Users\\ugioh\\code\\emojify\\venv\\lib\\site-packages\\sklearn\\metrics\\_classification.py:1344: UndefinedMetricWarning: Precision and F-score are ill-defined and being set to 0.0 in labels with no predicted samples. Use `zero_division` parameter to control this behavior.\n",
      "  _warn_prf(average, modifier, msg_start, len(result))\n",
      "c:\\Users\\ugioh\\code\\emojify\\venv\\lib\\site-packages\\sklearn\\metrics\\_classification.py:1344: UndefinedMetricWarning: Precision and F-score are ill-defined and being set to 0.0 in labels with no predicted samples. Use `zero_division` parameter to control this behavior.\n",
      "  _warn_prf(average, modifier, msg_start, len(result))\n",
      "c:\\Users\\ugioh\\code\\emojify\\venv\\lib\\site-packages\\sklearn\\metrics\\_classification.py:1344: UndefinedMetricWarning: Precision and F-score are ill-defined and being set to 0.0 in labels with no predicted samples. Use `zero_division` parameter to control this behavior.\n",
      "  _warn_prf(average, modifier, msg_start, len(result))\n"
     ]
    }
   ],
   "source": [
    "acc = nn_manager.test()\n",
    "print(f\"Test accuracy: {acc:.2f}\")"
   ]
  }
 ],
 "metadata": {
  "kernelspec": {
   "display_name": "venv",
   "language": "python",
   "name": "python3"
  },
  "language_info": {
   "codemirror_mode": {
    "name": "ipython",
    "version": 3
   },
   "file_extension": ".py",
   "mimetype": "text/x-python",
   "name": "python",
   "nbconvert_exporter": "python",
   "pygments_lexer": "ipython3",
   "version": "3.10.10"
  },
  "orig_nbformat": 4
 },
 "nbformat": 4,
 "nbformat_minor": 2
}
