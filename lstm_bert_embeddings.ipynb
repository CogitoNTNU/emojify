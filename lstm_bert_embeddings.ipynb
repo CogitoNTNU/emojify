{
 "cells": [
  {
   "cell_type": "code",
   "execution_count": null,
   "metadata": {},
   "outputs": [],
   "source": [
    "\n",
    "from emojify.nn_manager import NNManager\n",
    "from emojify.bert_embedded_data import load_bert_embeddings_data\n",
    "from emojify.lstm_bert_embeddings import ExampleNet\n",
    "import torch\n",
    "import emojify.utils as utils\n",
    "import seaborn as sns\n",
    "import matplotlib.pyplot as plt"
   ]
  },
  {
   "cell_type": "code",
   "execution_count": null,
   "metadata": {},
   "outputs": [],
   "source": [
    "embedding_dim = 768  # should probably be 32\n",
    "hidden_dim = 6  # should probably be 32\n",
    "epochs = 10\n",
    "batch_size = 32\n",
    "learning_rate = 5e-3\n",
    "early_stop_count = 4\n",
    "train, val, test = load_bert_embeddings_data(batch_size)\n",
    "model = ExampleNet(\n",
    "    batch_size,\n",
    "    embedding_dim,\n",
    "    hidden_dim,\n",
    ")\n",
    "nn_manager = NNManager(\n",
    "    batch_size, learning_rate, early_stop_count, epochs, model, (train, val, test)\n",
    ")\n",
    "nn_manager.train()\n",
    "acc = nn_manager.test()\n",
    "print(f\"Test accuracy: {acc:.2f}\")"
   ]
  }
 ],
 "metadata": {
  "language_info": {
   "name": "python"
  },
  "orig_nbformat": 4
 },
 "nbformat": 4,
 "nbformat_minor": 2
}
